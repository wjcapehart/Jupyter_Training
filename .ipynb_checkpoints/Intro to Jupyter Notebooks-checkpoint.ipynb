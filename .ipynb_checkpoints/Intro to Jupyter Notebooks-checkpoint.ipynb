{
 "cells": [
  {
   "cell_type": "markdown",
   "metadata": {},
   "source": [
    "# Intro to Jupyter Notebooks\n",
    "\n",
    "## 1.0 What's a Jupyter Notebook\n",
    "\n",
    "A Jupyter notebook is a container for narrative text, source code and output presented in a user-friendly web-based framework.  \n",
    "\n",
    "It's goal is to provide an environment where a work projet can be presetned in a single workspace to improve documentation of a project, its workflow and results. \n",
    "\n",
    "We will use this enviornment to demonstrate Python but it's also useful for other languages (represetned here as \"kernels\" such as R, Co-Array Fortran, Julia, and IDL.  (NCL is expected to join this growing group of programming languages.)\n",
    "\n",
    "## 2.0 Starters \n",
    "\n",
    "We can the notebook has two main components (cells), Markdown (this section) and code.\n",
    "\n",
    "Markdown is a text based rather than gui based enhancement to allow for bold, italics, headers, tables etc.  There are a few cheatsheets for Markdown, a good one is this one from IBM.  __[https://www.ibm.com/support/knowledgecenter/SSQNUZ_current/com.ibm.icpdata.doc/dsx/markd-jupyter.html](https://www.ibm.com/support/knowledgecenter/SSQNUZ_current/com.ibm.icpdata.doc/dsx/markd-jupyter.html)__\n",
    "\n",
    "Try some of the features to see how they work.\n",
    "\n",
    "But for now... Let's code!\n",
    "\n",
    "## 3.0 Hello Python!\n",
    "\n",
    "Let's start with a python cell doing the traditionl first python program!\n",
    "\n",
    "We toggle from Markdown into a code cell. (Hit shift-enter.)"
   ]
  },
  {
   "cell_type": "code",
   "execution_count": 1,
   "metadata": {},
   "outputs": [
    {
     "name": "stdout",
     "output_type": "stream",
     "text": [
      "Hello World\n"
     ]
    }
   ],
   "source": [
    "print(\"Hello World\")"
   ]
  },
  {
   "cell_type": "code",
   "execution_count": 2,
   "metadata": {},
   "outputs": [
    {
     "name": "stdout",
     "output_type": "stream",
     "text": [
      "54\n"
     ]
    }
   ],
   "source": [
    "print( 6 * 9 )"
   ]
  },
  {
   "cell_type": "code",
   "execution_count": 3,
   "metadata": {},
   "outputs": [
    {
     "ename": "NameError",
     "evalue": "name 'pi' is not defined",
     "output_type": "error",
     "traceback": [
      "\u001b[0;31m---------------------------------------------------------------------------\u001b[0m",
      "\u001b[0;31mNameError\u001b[0m                                 Traceback (most recent call last)",
      "\u001b[0;32m<ipython-input-3-9e2d2bd32686>\u001b[0m in \u001b[0;36m<module>\u001b[0;34m\u001b[0m\n\u001b[0;32m----> 1\u001b[0;31m \u001b[0mprint\u001b[0m\u001b[0;34m(\u001b[0m\u001b[0mpi\u001b[0m\u001b[0;34m)\u001b[0m\u001b[0;34m\u001b[0m\u001b[0m\n\u001b[0m",
      "\u001b[0;31mNameError\u001b[0m: name 'pi' is not defined"
     ]
    }
   ],
   "source": [
    "print(pi)"
   ]
  },
  {
   "cell_type": "markdown",
   "metadata": {},
   "source": [
    "Well that didn't work."
   ]
  },
  {
   "cell_type": "code",
   "execution_count": null,
   "metadata": {},
   "outputs": [],
   "source": [
    "pi = 3.1415"
   ]
  },
  {
   "cell_type": "code",
   "execution_count": null,
   "metadata": {},
   "outputs": [],
   "source": [
    "print(pi)"
   ]
  },
  {
   "cell_type": "code",
   "execution_count": null,
   "metadata": {},
   "outputs": [],
   "source": [
    "print(cos( pi * 30 / 180 )"
   ]
  },
  {
   "cell_type": "markdown",
   "metadata": {},
   "source": [
    "### 3.1 OK Hello Libraries\n",
    "\n",
    "OK now, we need not-so-intrinsic intrinsics... that means like in C we need to add some libary extensions.  The [\"numpy\"](https://docs.scipy.org/doc/numpy-1.15.1/reference/) library is has a lot of common tools. \n",
    "\n",
    "While we are here we'll want a few more like scipy, netCDF4 and a few others\n",
    "\n"
   ]
  },
  {
   "cell_type": "code",
   "execution_count": null,
   "metadata": {},
   "outputs": [],
   "source": [
    "from numpy import *"
   ]
  },
  {
   "cell_type": "code",
   "execution_count": null,
   "metadata": {},
   "outputs": [],
   "source": [
    "print(cos( pi * 30 / 180 ))"
   ]
  },
  {
   "cell_type": "markdown",
   "metadata": {},
   "source": [
    "That's better! Let's get some data!\n",
    "\n",
    "We'll use the netCDF library and get the tool \"Dataset\""
   ]
  },
  {
   "cell_type": "code",
   "execution_count": 23,
   "metadata": {},
   "outputs": [],
   "source": [
    "from netCDF4 import *"
   ]
  },
  {
   "cell_type": "code",
   "execution_count": 24,
   "metadata": {},
   "outputs": [],
   "source": [
    "filename = 'http://kyrill.ias.sdsmt.edu:8080/thredds/dodsC/GHCN_POINT_DATA/GHCND-USC00396948__RAPID_CITY_WEATHER_FORECAST_OFFICE_SD.nc'"
   ]
  },
  {
   "cell_type": "code",
   "execution_count": 25,
   "metadata": {},
   "outputs": [],
   "source": [
    "f = Dataset(filename, \"r\")"
   ]
  },
  {
   "cell_type": "code",
   "execution_count": 26,
   "metadata": {},
   "outputs": [
    {
     "name": "stdout",
     "output_type": "stream",
     "text": [
      "<class 'netCDF4._netCDF4.Dataset'>\n",
      "root group (NETCDF3_CLASSIC data model, file format DAP2):\n",
      "    Title: NCEI Data Hourly Output for RAPID CITY WEATHER FORECAST OFFICE, SD US\n",
      "    GHCN_Station_Code: GHCND:USC00396948\n",
      "    Station_Name: RAPID CITY WEATHER FORECAST OFFICE, SD US\n",
      "    Station_Latitude: 44.0727\n",
      "    Station_Longitude: -103.2108\n",
      "    Station_Elevation_in_Meters: 1029.9\n",
      "    featureType: timeSeries\n",
      "    Conventions: CF-1.6\n",
      "    DODS.strlen: 56\n",
      "    DODS.dimName: name_strlen\n",
      "    DODS_EXTRA.Unlimited_Dimension: time\n",
      "    dimensions(sizes): time(8216), bnds(2), maxStrlen64(64)\n",
      "    variables(dimensions): float64 \u001b[4mtime\u001b[0m(time), float64 \u001b[4mtime_bnds\u001b[0m(time,bnds), float32 \u001b[4mlatitude\u001b[0m(), float32 \u001b[4mlongitude\u001b[0m(), float32 \u001b[4maltitude\u001b[0m(), |S1 \u001b[4mstation_name\u001b[0m(maxStrlen64), float32 \u001b[4mmaximum_air_temperature\u001b[0m(time), float32 \u001b[4mminimum_air_temperature\u001b[0m(time), float32 \u001b[4mprecipitation_amount\u001b[0m(time), float32 \u001b[4mthickness_of_snowfall_amount\u001b[0m(time), float32 \u001b[4msurface_snow_thickness\u001b[0m(time)\n",
      "    groups: \n",
      "\n"
     ]
    }
   ],
   "source": [
    "print(f)"
   ]
  },
  {
   "cell_type": "code",
   "execution_count": 27,
   "metadata": {},
   "outputs": [],
   "source": [
    "time = f.variables[\"time\"]"
   ]
  },
  {
   "cell_type": "code",
   "execution_count": 28,
   "metadata": {},
   "outputs": [
    {
     "name": "stdout",
     "output_type": "stream",
     "text": [
      "<class 'netCDF4._netCDF4.Variable'>\n",
      "float64 time(time)\n",
      "    units: days since 1970-01-01 00:00:00\n",
      "    long_name: time\n",
      "    calendar: standard\n",
      "    description: time\n",
      "    bounds: time_bnds\n",
      "    axis: T\n",
      "unlimited dimensions: time\n",
      "current shape = (8216,)\n",
      "filling off\n",
      "\n"
     ]
    }
   ],
   "source": [
    "print(time)"
   ]
  },
  {
   "cell_type": "code",
   "execution_count": 22,
   "metadata": {},
   "outputs": [
    {
     "name": "stdout",
     "output_type": "stream",
     "text": [
      "[ 9496.  9497.  9498. ... 17709. 17710. 17711.]\n"
     ]
    }
   ],
   "source": [
    "print(time[:])"
   ]
  },
  {
   "cell_type": "code",
   "execution_count": 29,
   "metadata": {},
   "outputs": [],
   "source": [
    "dates = num2date(time[:], time.units)"
   ]
  },
  {
   "cell_type": "code",
   "execution_count": 30,
   "metadata": {},
   "outputs": [
    {
     "name": "stdout",
     "output_type": "stream",
     "text": [
      "[datetime.datetime(1996, 1, 1, 0, 0) datetime.datetime(1996, 1, 2, 0, 0)\n",
      " datetime.datetime(1996, 1, 3, 0, 0) ...\n",
      " datetime.datetime(2018, 6, 27, 0, 0) datetime.datetime(2018, 6, 28, 0, 0)\n",
      " datetime.datetime(2018, 6, 29, 0, 0)]\n"
     ]
    }
   ],
   "source": [
    "print(dates)"
   ]
  },
  {
   "cell_type": "code",
   "execution_count": 36,
   "metadata": {},
   "outputs": [],
   "source": [
    "date_string = [date.strftime('%Y-%m-%d %H:%M:%S') for date in dates[:]]"
   ]
  },
  {
   "cell_type": "code",
   "execution_count": 38,
   "metadata": {},
   "outputs": [
    {
     "name": "stdout",
     "output_type": "stream",
     "text": [
      "['1996-01-01 00:00:00', '1996-01-02 00:00:00', '1996-01-03 00:00:00', '1996-01-04 00:00:00', '1996-01-05 00:00:00', '1996-01-06 00:00:00', '1996-01-07 00:00:00', '1996-01-08 00:00:00', '1996-01-09 00:00:00', '1996-01-10 00:00:00']\n"
     ]
    }
   ],
   "source": [
    "print(date_string)"
   ]
  },
  {
   "cell_type": "code",
   "execution_count": null,
   "metadata": {},
   "outputs": [],
   "source": []
  },
  {
   "cell_type": "code",
   "execution_count": null,
   "metadata": {},
   "outputs": [],
   "source": []
  }
 ],
 "metadata": {
  "kernelspec": {
   "display_name": "Python 3",
   "language": "python",
   "name": "python3"
  },
  "language_info": {
   "codemirror_mode": {
    "name": "ipython",
    "version": 3
   },
   "file_extension": ".py",
   "mimetype": "text/x-python",
   "name": "python",
   "nbconvert_exporter": "python",
   "pygments_lexer": "ipython3",
   "version": "3.7.0"
  }
 },
 "nbformat": 4,
 "nbformat_minor": 2
}
